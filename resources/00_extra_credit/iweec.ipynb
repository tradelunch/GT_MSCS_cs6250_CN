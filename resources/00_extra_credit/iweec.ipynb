{
 "cells": [
  {
   "cell_type": "markdown",
   "id": "unexpected-wrist",
   "metadata": {},
   "source": [
    "## Internet Wide Events – Extra Credit Project\n",
    "\n",
    "### Goal  \n",
    "The goal of this project is to identify major events that have large scale impact on Internet connectivity for individual networks or even entire countries. In this project we will learn:   \n",
    "1.\tHow to leverage tools and resources, so that we can understand how a large-scale event is reflected on Internet connectivity data  \n",
    "2.\tHow to perform measurements so we can measure ourselves multiple aspects of the event’s impact \n",
    "\n",
    "### Resources\n",
    "* [PyBGPstream](https://github.com/CAIDA/pybgpstream)  \n",
    "* [Public service](https://team-cymru.com/community-services/ip-asn-mapping/) for IP to AS mapping.  \n",
    "* [Python library](https://pypi.org/project/PyTrie/) for efficient longest prefix matching, if you are given a list of origin ASes and prefixes and you want a quick lookup. \n",
    "\n",
    "\n",
    "### Task 1  \n",
    "First you will need to find public information about an event that had impact on Internet connectivity for individual ASes or entire countries. Example types of events are DDoS attacks, prefix hijacking, political developments, social unrest, social media censorship, an earthquake or other physical phenomena. \n",
    "\n",
    "A specific example event is the development that took place in Myanmar and it was accompanied with Internet disruptions after midnight (UTC) on 1st February 2021. [Here](https://www.euronews.com/2021/03/17/myanmar-has-endured-more-than-a-month-of-nightly-internet-shutdown) is a related news article. We will be using this event as an illustrated example in the project description, but please identify different events to work with. \n",
    "\n",
    "\n",
    "### Where to find events \n",
    "Below we list resources that can help you find information about similar events. Of course, you are more than welcome to expand your search on the news or on additional tools and resources. \n",
    "\n",
    "* [Ioda Internet Outage Detection and Analysis](https://ioda.caida.org/) provides multiple events, and a feed as well. We can use the Ioda system to find information specifically for the Myanmar event and impacted ASes MPT (AS9988) and Mytel (AS136255) as shown [here](https://ioda.caida.org/ioda/dashboard#view=inspect&entity=asn/9988&lastView=overview&from=1612051200&until=1612224000). \n",
    "\n",
    "* [Oracle Internet Intelligence](https://internetintel.oracle.com/index.html). Using the Oracle Internet Intelligence to learn about the Myanmar event as shown [here](https://map.internetintel.oracle.com/?root=national&country=MM). \n",
    "\n",
    "* [Google traffic disruptions](https://transparencyreport.google.com/traffic/overview) We can leverage the Google traffic disruptions to find out more about the Myanmar event as shown [here](https://transparencyreport.google.com/traffic/overview?hl=en&fraction_traffic=start:1611878400000;end:1614729599999;product:19;region:MM&lu=fraction_traffic). \n",
    "\n",
    "* [Netblocks.org](Netblocks.org) provides [reports](https://netblocks.org/reports) of disruption events.\n",
    "\n",
    "\n",
    "### Task 1 deliverables \n",
    "1.\tDescribe in a short essay of 10-15 sentences the event that took place. \n",
    "1.\tIdentify the time period the event took place. \n",
    "1.\tIdentify the AS numbers (and associated entities or organization names) of the networks that were involved/impacted. "
   ]
  },
  {
   "cell_type": "raw",
   "id": "relative-monitor",
   "metadata": {},
   "source": [
    "Please put your essay here."
   ]
  },
  {
   "cell_type": "markdown",
   "id": "refined-identity",
   "metadata": {},
   "source": [
    "### Task 2\n",
    "Study the control plane behavior of the impacted ASes before, during and after the event took place. \n",
    "\n",
    "### Task 2 deliverables\n",
    "1.\tIdentify a metric that is associated with the control plane behavior of one impacted AS. Briefly justify why your metric is relevant. Use the PyBGPstream library to study/track this metric. Example metrics are the number of prefixes that are advertised by an origin AS, the duration between Announcement and Withdrawal for a prefix, the AS path and any changes it is associated with, change of origin AS for a prefix, advertisements with conflicting multiple origin ASes for a single prefix etc. Of course, feel free to come up with your own metric that better reflects the behavior of the AS you are studying.    "
   ]
  },
  {
   "cell_type": "raw",
   "id": "apparent-rebate",
   "metadata": {},
   "source": [
    "Please put your essay here."
   ]
  },
  {
   "cell_type": "markdown",
   "id": "amazing-colonial",
   "metadata": {},
   "source": [
    "2.\tShow a line graph with the metric of your choice before, during and after the event took place. The goal of this graph is to show that an aspect of the control plane behavior of a network is clearly atypical during the event. So, the x-axis of the line graph will reflect time (in a timescale of your choice), and the y-axis will show your metric.   \n"
   ]
  },
  {
   "cell_type": "raw",
   "id": "seven-foundation",
   "metadata": {},
   "source": [
    "Please put your essay here."
   ]
  },
  {
   "cell_type": "code",
   "execution_count": null,
   "id": "static-orange",
   "metadata": {},
   "outputs": [],
   "source": [
    "# you need to import the pybgpstream library, and if you use matplot lib, import that too\n",
    "\n",
    "import pybgpstream\n",
    "from matplotlib import pyplot as plt"
   ]
  }
 ],
 "metadata": {
  "kernelspec": {
   "display_name": "Python 3",
   "language": "python",
   "name": "python3"
  },
  "language_info": {
   "codemirror_mode": {
    "name": "ipython",
    "version": 3
   },
   "file_extension": ".py",
   "mimetype": "text/x-python",
   "name": "python",
   "nbconvert_exporter": "python",
   "pygments_lexer": "ipython3",
   "version": "3.8.5"
  }
 },
 "nbformat": 4,
 "nbformat_minor": 5
}
